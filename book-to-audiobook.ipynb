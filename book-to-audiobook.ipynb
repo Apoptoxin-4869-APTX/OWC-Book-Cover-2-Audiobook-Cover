{
 "cells": [
  {
   "cell_type": "code",
   "execution_count": 26,
   "metadata": {},
   "outputs": [],
   "source": [
    "import numpy as np\n",
    "import os\n",
    "from PIL import Image"
   ]
  },
  {
   "cell_type": "code",
   "execution_count": 27,
   "metadata": {},
   "outputs": [],
   "source": [
    "def read_images_from_folder(folder_path):\n",
    "    \"\"\"\n",
    "    Reads all images from a given folder using Pillow (PIL).\n",
    "\n",
    "    Args:\n",
    "        folder_path: The path to the folder containing the images.\n",
    "\n",
    "    Returns:\n",
    "        A list of PIL Image objects representing the images in the folder.\n",
    "    \"\"\"\n",
    "\n",
    "    images = []\n",
    "    for filename in os.listdir(folder_path):\n",
    "        if filename.endswith(('.jpg', '.jpeg', '.png', '.bmp', '.gif')):  # Add more extensions if needed\n",
    "            img_path = os.path.join(folder_path, filename)\n",
    "            try:\n",
    "                print(img_path)\n",
    "                img = Image.open(img_path)\n",
    "                images.append(img)\n",
    "            except IOError:\n",
    "                print(f\"Error: Could not open image {img_path}\")\n",
    "\n",
    "    return images"
   ]
  },
  {
   "cell_type": "code",
   "execution_count": 28,
   "metadata": {},
   "outputs": [],
   "source": [
    "def get_concat_v(im1, im2):\n",
    "    dst = Image.new('RGB', (im1.width, im1.height + im2.height))\n",
    "    dst.paste(im1, (0, 0))\n",
    "    dst.paste(im2, (0, im1.height))\n",
    "    return dst"
   ]
  },
  {
   "cell_type": "code",
   "execution_count": 29,
   "metadata": {},
   "outputs": [
    {
     "name": "stdout",
     "output_type": "stream",
     "text": [
      "cover-book/sh_01.png\n",
      "cover-book/sh_02.png\n",
      "cover-book/sh_03.jpg\n",
      "cover-book/sh_04.png\n",
      "cover-book/sh_05.png\n",
      "cover-book/sh_07.png\n",
      "Image size: (1600, 2431)\n"
     ]
    },
    {
     "ename": "ValueError",
     "evalue": "unknown file extension: ",
     "output_type": "error",
     "traceback": [
      "\u001b[0;31m---------------------------------------------------------------------------\u001b[0m",
      "\u001b[0;31mKeyError\u001b[0m                                  Traceback (most recent call last)",
      "File \u001b[0;32m/mnt/d/Connector/.venv/lib/python3.12/site-packages/PIL/Image.py:2543\u001b[0m, in \u001b[0;36mImage.save\u001b[0;34m(self, fp, format, **params)\u001b[0m\n\u001b[1;32m   2542\u001b[0m \u001b[38;5;28;01mtry\u001b[39;00m:\n\u001b[0;32m-> 2543\u001b[0m     \u001b[38;5;28mformat\u001b[39m \u001b[38;5;241m=\u001b[39m \u001b[43mEXTENSION\u001b[49m\u001b[43m[\u001b[49m\u001b[43mext\u001b[49m\u001b[43m]\u001b[49m\n\u001b[1;32m   2544\u001b[0m \u001b[38;5;28;01mexcept\u001b[39;00m \u001b[38;5;167;01mKeyError\u001b[39;00m \u001b[38;5;28;01mas\u001b[39;00m e:\n",
      "\u001b[0;31mKeyError\u001b[0m: ''",
      "\nThe above exception was the direct cause of the following exception:\n",
      "\u001b[0;31mValueError\u001b[0m                                Traceback (most recent call last)",
      "Cell \u001b[0;32mIn[29], line 48\u001b[0m\n\u001b[1;32m     44\u001b[0m l_b \u001b[38;5;241m=\u001b[39m stp \u001b[38;5;241m-\u001b[39m (\u001b[38;5;241m1\u001b[39m\u001b[38;5;241m-\u001b[39mun)\n\u001b[1;32m     46\u001b[0m bg\u001b[38;5;241m.\u001b[39mpaste(nm,(\u001b[38;5;241m0\u001b[39m,\u001b[38;5;28mint\u001b[39m(w\u001b[38;5;241m*\u001b[39ml_b)))\n\u001b[0;32m---> 48\u001b[0m \u001b[43mbg\u001b[49m\u001b[38;5;241;43m.\u001b[39;49m\u001b[43msave\u001b[49m\u001b[43m(\u001b[49m\u001b[38;5;124;43mf\u001b[39;49m\u001b[38;5;124;43m\"\u001b[39;49m\u001b[38;5;124;43m\"\u001b[39;49m\u001b[43m)\u001b[49m\n",
      "File \u001b[0;32m/mnt/d/Connector/.venv/lib/python3.12/site-packages/PIL/Image.py:2546\u001b[0m, in \u001b[0;36mImage.save\u001b[0;34m(self, fp, format, **params)\u001b[0m\n\u001b[1;32m   2544\u001b[0m     \u001b[38;5;28;01mexcept\u001b[39;00m \u001b[38;5;167;01mKeyError\u001b[39;00m \u001b[38;5;28;01mas\u001b[39;00m e:\n\u001b[1;32m   2545\u001b[0m         msg \u001b[38;5;241m=\u001b[39m \u001b[38;5;124mf\u001b[39m\u001b[38;5;124m\"\u001b[39m\u001b[38;5;124munknown file extension: \u001b[39m\u001b[38;5;132;01m{\u001b[39;00mext\u001b[38;5;132;01m}\u001b[39;00m\u001b[38;5;124m\"\u001b[39m\n\u001b[0;32m-> 2546\u001b[0m         \u001b[38;5;28;01mraise\u001b[39;00m \u001b[38;5;167;01mValueError\u001b[39;00m(msg) \u001b[38;5;28;01mfrom\u001b[39;00m \u001b[38;5;21;01me\u001b[39;00m\n\u001b[1;32m   2548\u001b[0m \u001b[38;5;28;01mif\u001b[39;00m \u001b[38;5;28mformat\u001b[39m\u001b[38;5;241m.\u001b[39mupper() \u001b[38;5;129;01mnot\u001b[39;00m \u001b[38;5;129;01min\u001b[39;00m SAVE:\n\u001b[1;32m   2549\u001b[0m     init()\n",
      "\u001b[0;31mValueError\u001b[0m: unknown file extension: "
     ]
    }
   ],
   "source": [
    "folder_book = 'cover-book'\n",
    "folder_audiobook = 'cover-audiobook'\n",
    "images = read_images_from_folder(folder_book)\n",
    "\n",
    "for img in images:\n",
    "    # Process each image as needed\n",
    "    print(f\"Image size: {img.size}\")\n",
    "\n",
    "    im = img\n",
    "    w, h = im.size\n",
    "\n",
    "    bg_box = (0,0,w,w)\n",
    "    bg = im.crop(bg_box)\n",
    "    # bg.size\n",
    "\n",
    "    r1 = 0.675 #ratio\n",
    "    r2 = 0.895\n",
    "\n",
    "    un = 0.9\n",
    "\n",
    "    nm_box = (0,h*r1,w,h*r2)\n",
    "    nm = im.crop(nm_box)\n",
    "    nm1, nm2 = nm.size\n",
    "\n",
    "    upper = 0.5\n",
    "    lower = 0.75\n",
    "\n",
    "    upper_box = (0,0, nm1,nm2*upper)\n",
    "    lower_box = (0,lower*nm2,nm1,nm2)\n",
    "\n",
    "    upper_nm = nm.crop(upper_box)\n",
    "    # upper_nm.show()\n",
    "\n",
    "    lower_nm = nm.crop(lower_box)\n",
    "    # lower_nm.show()\n",
    "\n",
    "    nm_cropped = get_concat_v(upper_nm,lower_nm)\n",
    "\n",
    "\n",
    "    nm = nm_cropped\n",
    "    nm1, nm2 = nm.size\n",
    "\n",
    "    stp = (nm1-nm2)/nm1\n",
    "    l_b = stp - (1-un)\n",
    "\n",
    "    bg.paste(nm,(0,int(w*l_b)))\n",
    "\n",
    "    bg.save(f\"\")\n",
    "\n",
    "\n"
   ]
  },
  {
   "cell_type": "code",
   "execution_count": 20,
   "metadata": {},
   "outputs": [],
   "source": []
  },
  {
   "cell_type": "code",
   "execution_count": 21,
   "metadata": {},
   "outputs": [
    {
     "name": "stdout",
     "output_type": "stream",
     "text": [
      "Image size: (1600, 2431)\n",
      "Image size: (1600, 2431)\n",
      "Image size: (762, 1158)\n",
      "Image size: (1600, 2431)\n",
      "Image size: (1600, 2431)\n",
      "Image size: (1600, 2431)\n"
     ]
    }
   ],
   "source": [
    "folder_path = 'cover-book'  # Replace with your actual folder path\n",
    "images = read_images_from_folder(folder_path)\n",
    "\n",
    "for img in images:\n",
    "    # Process each image as needed\n",
    "    print(f\"Image size: {img.size}\") \n",
    "    # You can perform further operations like displaying, resizing, etc."
   ]
  },
  {
   "cell_type": "code",
   "execution_count": null,
   "metadata": {},
   "outputs": [],
   "source": []
  }
 ],
 "metadata": {
  "kernelspec": {
   "display_name": "base",
   "language": "python",
   "name": "python3"
  },
  "language_info": {
   "codemirror_mode": {
    "name": "ipython",
    "version": 3
   },
   "file_extension": ".py",
   "mimetype": "text/x-python",
   "name": "python",
   "nbconvert_exporter": "python",
   "pygments_lexer": "ipython3",
   "version": "3.12.3"
  }
 },
 "nbformat": 4,
 "nbformat_minor": 2
}
