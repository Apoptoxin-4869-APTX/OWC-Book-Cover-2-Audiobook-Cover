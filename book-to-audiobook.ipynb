{
 "cells": [
  {
   "cell_type": "code",
   "execution_count": 329,
   "metadata": {},
   "outputs": [],
   "source": [
    "import numpy as np\n",
    "from PIL import Image"
   ]
  },
  {
   "cell_type": "code",
   "execution_count": 330,
   "metadata": {},
   "outputs": [],
   "source": [
    "filename = \"sh_01.png\"\n",
    "\n",
    "im = Image.open(filename)\n",
    "w, h = im.size"
   ]
  },
  {
   "cell_type": "code",
   "execution_count": 331,
   "metadata": {},
   "outputs": [
    {
     "data": {
      "text/plain": [
       "(1600, 1600)"
      ]
     },
     "execution_count": 331,
     "metadata": {},
     "output_type": "execute_result"
    }
   ],
   "source": [
    "bg_box = (0,0,w,w)\n",
    "bg = im.crop(bg_box)\n",
    "bg.size"
   ]
  },
  {
   "cell_type": "code",
   "execution_count": 332,
   "metadata": {},
   "outputs": [],
   "source": [
    "r1 = 0.675 #ratio\n",
    "r2 = 0.895\n",
    "\n",
    "un = 0.9"
   ]
  },
  {
   "cell_type": "code",
   "execution_count": 333,
   "metadata": {},
   "outputs": [],
   "source": [
    "nm_box = (0,h*r1,w,h*r2)\n",
    "nm = im.crop(nm_box)\n",
    "nm1, nm2 = nm.size"
   ]
  },
  {
   "cell_type": "code",
   "execution_count": 334,
   "metadata": {},
   "outputs": [
    {
     "data": {
      "text/plain": [
       "(1600, 535)"
      ]
     },
     "execution_count": 334,
     "metadata": {},
     "output_type": "execute_result"
    }
   ],
   "source": [
    "nm.size"
   ]
  },
  {
   "cell_type": "code",
   "execution_count": 335,
   "metadata": {},
   "outputs": [],
   "source": [
    "def get_concat_v(im1, im2):\n",
    "    dst = Image.new('RGB', (im1.width, im1.height + im2.height))\n",
    "    dst.paste(im1, (0, 0))\n",
    "    dst.paste(im2, (0, im1.height))\n",
    "    return dst"
   ]
  },
  {
   "cell_type": "code",
   "execution_count": 336,
   "metadata": {},
   "outputs": [],
   "source": [
    "upper = 0.5\n",
    "lower = 0.75\n",
    "\n",
    "upper_box = (0,0, nm1,nm2*upper)\n",
    "lower_box = (0,lower*nm2,nm1,nm2)\n",
    "\n",
    "upper_nm = nm.crop(upper_box)\n",
    "# upper_nm.show()\n",
    "\n",
    "lower_nm = nm.crop(lower_box)\n",
    "# lower_nm.show()\n",
    "\n",
    "nm_cropped = get_concat_v(upper_nm,lower_nm)\n",
    "\n",
    "\n",
    "nm = nm_cropped\n",
    "nm1, nm2 = nm.size"
   ]
  },
  {
   "cell_type": "code",
   "execution_count": 337,
   "metadata": {},
   "outputs": [],
   "source": [
    "stp = (nm1-nm2)/nm1\n",
    "l_b = stp - (1-un)\n",
    "\n",
    "bg.paste(nm,(0,int(w*l_b)))"
   ]
  },
  {
   "cell_type": "code",
   "execution_count": 338,
   "metadata": {},
   "outputs": [],
   "source": [
    "bg.show()"
   ]
  },
  {
   "cell_type": "code",
   "execution_count": 339,
   "metadata": {},
   "outputs": [],
   "source": [
    "bg.save(\"audiobook_\"+filename)"
   ]
  },
  {
   "cell_type": "code",
   "execution_count": null,
   "metadata": {},
   "outputs": [],
   "source": []
  }
 ],
 "metadata": {
  "kernelspec": {
   "display_name": "base",
   "language": "python",
   "name": "python3"
  },
  "language_info": {
   "codemirror_mode": {
    "name": "ipython",
    "version": 3
   },
   "file_extension": ".py",
   "mimetype": "text/x-python",
   "name": "python",
   "nbconvert_exporter": "python",
   "pygments_lexer": "ipython3",
   "version": "3.11.7"
  }
 },
 "nbformat": 4,
 "nbformat_minor": 2
}
