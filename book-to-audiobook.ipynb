{
 "cells": [
  {
   "cell_type": "code",
   "execution_count": 1,
   "metadata": {},
   "outputs": [],
   "source": [
    "import os\n",
    "from PIL import Image"
   ]
  },
  {
   "cell_type": "code",
   "execution_count": 2,
   "metadata": {},
   "outputs": [],
   "source": [
    "def read_images_from_folder(folder_path):\n",
    "    \"\"\"\n",
    "    Reads all images from a given folder using Pillow (PIL) and saves filenames.\n",
    "\n",
    "    Args:\n",
    "        folder_path: The path to the folder containing the images.\n",
    "\n",
    "    Returns:\n",
    "        A list of tuples, each containing a PIL Image object and its filename.\n",
    "    \"\"\"\n",
    "\n",
    "    image_data = []\n",
    "    for filename in os.listdir(folder_path):\n",
    "        if filename.endswith(('.jpg', '.jpeg', '.png', '.bmp', '.gif')): \n",
    "            img_path = os.path.join(folder_path, filename)\n",
    "            try:\n",
    "                img = Image.open(img_path)\n",
    "                image_data.append((img, filename)) \n",
    "            except IOError:\n",
    "                print(f\"Error: Could not open image {img_path}\")\n",
    "\n",
    "    return image_data"
   ]
  },
  {
   "cell_type": "code",
   "execution_count": 3,
   "metadata": {},
   "outputs": [],
   "source": [
    "def get_concat_v(im1, im2):\n",
    "    dst = Image.new('RGB', (im1.width, im1.height + im2.height))\n",
    "    dst.paste(im1, (0, 0))\n",
    "    dst.paste(im2, (0, im1.height))\n",
    "    return dst"
   ]
  },
  {
   "cell_type": "code",
   "execution_count": 4,
   "metadata": {},
   "outputs": [],
   "source": [
    "def book2audiobook(folder_book,folder_audiobook):\n",
    "    \n",
    "    image_data = read_images_from_folder(folder_book)\n",
    "\n",
    "    for img, filename in image_data:\n",
    "        # Process each image as needed\n",
    "        print(f\"Book cover : {filename}, size: {img.size}\") \n",
    "\n",
    "        im = img\n",
    "        w, h = im.size\n",
    "\n",
    "        bg_box = (0,0,w,w)\n",
    "        bg = im.crop(bg_box)\n",
    "        # bg.size\n",
    "\n",
    "        r1 = 0.675 #ratio\n",
    "        r2 = 0.895\n",
    "\n",
    "        un = 0.9\n",
    "\n",
    "        nm_box = (0,h*r1,w,h*r2)\n",
    "        nm = im.crop(nm_box)\n",
    "        nm1, nm2 = nm.size\n",
    "\n",
    "        upper = 0.5\n",
    "        lower = 0.75\n",
    "\n",
    "        upper_box = (0,0, nm1,nm2*upper)\n",
    "        lower_box = (0,lower*nm2,nm1,nm2)\n",
    "\n",
    "        upper_nm = nm.crop(upper_box)\n",
    "        # upper_nm.show()\n",
    "\n",
    "        lower_nm = nm.crop(lower_box)\n",
    "        # lower_nm.show()\n",
    "\n",
    "        nm_cropped = get_concat_v(upper_nm,lower_nm)\n",
    "\n",
    "\n",
    "        nm = nm_cropped\n",
    "        nm1, nm2 = nm.size\n",
    "\n",
    "        stp = (nm1-nm2)/nm1\n",
    "        l_b = stp - (1-un)\n",
    "\n",
    "        bg.paste(nm,(0,int(w*l_b)))\n",
    "\n",
    "        bg.save(f\"{folder_audiobook}/{filename}\")\n",
    "\n",
    "        print(f\"Audioook cover : {filename}, size: {bg.size} \\n\") \n"
   ]
  },
  {
   "cell_type": "code",
   "execution_count": 5,
   "metadata": {},
   "outputs": [
    {
     "name": "stdout",
     "output_type": "stream",
     "text": [
      "Book cover : sh_01.png, size: (1600, 2431)\n",
      "Audioook cover : sh_01.png, size: (1600, 1600) \n",
      "\n",
      "Book cover : sh_02.png, size: (1600, 2431)\n",
      "Audioook cover : sh_02.png, size: (1600, 1600) \n",
      "\n",
      "Book cover : sh_03.jpg, size: (762, 1158)\n",
      "Audioook cover : sh_03.jpg, size: (762, 762) \n",
      "\n",
      "Book cover : sh_04.png, size: (1600, 2431)\n",
      "Audioook cover : sh_04.png, size: (1600, 1600) \n",
      "\n",
      "Book cover : sh_05.png, size: (1600, 2431)\n",
      "Audioook cover : sh_05.png, size: (1600, 1600) \n",
      "\n",
      "Book cover : sh_07.png, size: (1600, 2431)\n",
      "Audioook cover : sh_07.png, size: (1600, 1600) \n",
      "\n"
     ]
    }
   ],
   "source": [
    "folder_book = 'cover-book'\n",
    "folder_audiobook = 'cover-audiobook'\n",
    "\n",
    "book2audiobook(folder_book,folder_audiobook)"
   ]
  }
 ],
 "metadata": {
  "kernelspec": {
   "display_name": "base",
   "language": "python",
   "name": "python3"
  },
  "language_info": {
   "codemirror_mode": {
    "name": "ipython",
    "version": 3
   },
   "file_extension": ".py",
   "mimetype": "text/x-python",
   "name": "python",
   "nbconvert_exporter": "python",
   "pygments_lexer": "ipython3",
   "version": "3.12.3"
  }
 },
 "nbformat": 4,
 "nbformat_minor": 2
}
